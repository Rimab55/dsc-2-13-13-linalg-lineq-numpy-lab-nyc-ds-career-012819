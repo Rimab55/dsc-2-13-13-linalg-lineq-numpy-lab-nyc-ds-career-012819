{
 "cells": [
  {
   "cell_type": "markdown",
   "metadata": {},
   "source": [
    "# Solving Systems of Linear Equations with NumPy - Lab\n",
    "\n",
    "## Introduction \n",
    "\n",
    "Now we have gathered all the required skills needed to solve systems of linear equations. We saw why need to calculate inverses of matrices, followed by matrix multiplication to figure the values of unknown variables. \n",
    "\n",
    "Following exercises present some problems that can be converted into a system of linear equations. Solve the problems for the values of unknown variables. \n",
    "\n",
    "## Objectives\n",
    "You will be able to:\n",
    "\n",
    "* Build a system of equations from given problem by creating matrix and vectors in NumPy\n",
    "* Calculate the inverse and dot-product to get the values for unknown variables.\n",
    "* Solve linear equations using `numpy.linalg.solve()`"
   ]
  },
  {
   "cell_type": "markdown",
   "metadata": {},
   "source": [
    "## Exercise 1\n",
    "\n",
    "A coffee shop is having a sale on coffee and tea. \n",
    "\n",
    "On day 1, 29 bags of coffee and 41 bags of tea was sold, giving a total of 490 dollars.\n",
    "\n",
    "On day 2, they sold 23 bags of coffee and 41 bags of tea, for which customers paid a total of 448 dollars.  \n",
    "\n",
    "How much does each bag cost?"
   ]
  },
  {
   "cell_type": "code",
   "execution_count": 16,
   "metadata": {},
   "outputs": [
    {
     "data": {
      "text/plain": [
       "(2, 2)"
      ]
     },
     "execution_count": 16,
     "metadata": {},
     "output_type": "execute_result"
    }
   ],
   "source": [
    "# Solution:\n",
    "import numpy as np\n",
    "X = np.array([[29,41],[23,41]])\n",
    "X.shape"
   ]
  },
  {
   "cell_type": "code",
   "execution_count": 20,
   "metadata": {},
   "outputs": [
    {
     "data": {
      "text/plain": [
       "(2, 1)"
      ]
     },
     "execution_count": 20,
     "metadata": {},
     "output_type": "execute_result"
    }
   ],
   "source": [
    "Y = np.array([[490],[448]])\n",
    "Y.shape"
   ]
  },
  {
   "cell_type": "code",
   "execution_count": 21,
   "metadata": {},
   "outputs": [
    {
     "data": {
      "text/plain": [
       "array([[7.],\n",
       "       [7.]])"
      ]
     },
     "execution_count": 21,
     "metadata": {},
     "output_type": "execute_result"
    }
   ],
   "source": [
    "# Explain your answer in terms of prices\n",
    "A = np.linalg.solve(X,Y)\n",
    "A"
   ]
  },
  {
   "cell_type": "code",
   "execution_count": 22,
   "metadata": {},
   "outputs": [
    {
     "data": {
      "text/plain": [
       "(2, 1)"
      ]
     },
     "execution_count": 22,
     "metadata": {},
     "output_type": "execute_result"
    }
   ],
   "source": [
    "A.shape"
   ]
  },
  {
   "cell_type": "markdown",
   "metadata": {},
   "source": [
    "Each bag costs 7$ "
   ]
  },
  {
   "cell_type": "markdown",
   "metadata": {},
   "source": [
    "## Exercise 2:\n",
    "\n",
    "The cost of admission to a popular music concert was 162 dollars for 12 children and 3 adults. \n",
    "\n",
    "The admission was 122 dollars for 8 children and 3 adults in another music concert. \n",
    "\n",
    "How much was the admission for each child and adult?"
   ]
  },
  {
   "cell_type": "code",
   "execution_count": 8,
   "metadata": {},
   "outputs": [
    {
     "name": "stdout",
     "output_type": "stream",
     "text": [
      "(2, 2)\n",
      "(2,)\n",
      "[10. 14.]\n"
     ]
    }
   ],
   "source": [
    "# Create a system of equations\n",
    "import numpy as np\n",
    "A = np.array([[12,3],[8,3]])  # number of children and adults\n",
    "print(A.shape)\n",
    "\n",
    "Y = np.array([162,122])\n",
    "print(Y.shape)\n",
    "\n",
    "X = np.linalg.solve(A,Y)\n",
    "print(X)"
   ]
  },
  {
   "cell_type": "code",
   "execution_count": 9,
   "metadata": {},
   "outputs": [],
   "source": [
    "# Describe your result\n",
    "# price per child is 10 and price per adult is 14"
   ]
  },
  {
   "cell_type": "markdown",
   "metadata": {},
   "source": [
    "## Exercise 3:\n",
    "\n",
    "You want to make a certain kind of tropical punch, using bananas, oranges, and papayas. \n",
    "\n",
    "Suppose you don't know how many of each to put in the punch, but you know that there are seven pieces of fruit in the mix, and there are twice as many oranges as bananas. \n",
    "\n",
    "You also know that the seven pieces of fruit cost \\$5.25, \n",
    "\n",
    "where bananas cost \\$.50 each, oranges cost \\$.75 each, and papayas cost \\$1.25 each.\n",
    "\n",
    "How many bananas, oranges and papayas would you need to make this punch ?"
   ]
  },
  {
   "cell_type": "code",
   "execution_count": 25,
   "metadata": {},
   "outputs": [
    {
     "data": {
      "text/plain": [
       "(2, 2)"
      ]
     },
     "execution_count": 25,
     "metadata": {},
     "output_type": "execute_result"
    }
   ],
   "source": [
    "# Create a system of equations\n",
    "\n",
    "A = np.array([[(0.5+0.75*2),1.25],[3,1]])\n",
    "A.shape"
   ]
  },
  {
   "cell_type": "code",
   "execution_count": 29,
   "metadata": {},
   "outputs": [
    {
     "data": {
      "text/plain": [
       "(2, 1)"
      ]
     },
     "execution_count": 29,
     "metadata": {},
     "output_type": "execute_result"
    }
   ],
   "source": [
    "Y = np.array([[5.25],[7]])\n",
    "Y.shape"
   ]
  },
  {
   "cell_type": "code",
   "execution_count": 31,
   "metadata": {},
   "outputs": [
    {
     "data": {
      "text/plain": [
       "array([[2.],\n",
       "       [1.]])"
      ]
     },
     "execution_count": 31,
     "metadata": {},
     "output_type": "execute_result"
    }
   ],
   "source": [
    "# Solving\n",
    "X = np.linalg.solve(A,Y)\n",
    "X"
   ]
  },
  {
   "cell_type": "markdown",
   "metadata": {},
   "source": [
    "## Answer Explanation\n",
    "\n",
    "Solved for:\n",
    "\n",
    "\n",
    "EQ1 :    0.5X1 + 0.75X2 + 1.25X3 = 5.25 where X2 = 2*X1 (because twice as much oranges than bananas)\n",
    "\n",
    "\n",
    "And\n",
    "\n",
    "\n",
    "EQ2 : X1 + X2 + X3 = 7   => 3X1 + X3 = 7\n",
    "\n",
    "\n",
    "X1 = # of bananas is 2\n",
    "\n",
    "\n",
    "X2 = # of oranges is 2*X1 = 4\n",
    "\n",
    "\n",
    "X3 = # of papayas is 1\n"
   ]
  },
  {
   "cell_type": "markdown",
   "metadata": {},
   "source": [
    "## Exercise 4\n",
    "\n",
    "A landlord owns 3 houses, a 1-bedroom, a 2-bedroom , and a 3-bedroom house. \n",
    "\n",
    "The total rent he receives is 1240 dollars. \n",
    "\n",
    "He needs to make some repairs, where it costs 10% of the 1-bedroom house’s rent for its repairs, 20% of the 2-bedroom for its repairs, and 30% of the 3-bedroom house's rent for its repairs.  The total repair bill for all three houses was $276. \n",
    "\n",
    "The 3-bedroom house's rent is twice the 1-bedroom house’s rent. \n",
    "\n",
    "How much is the individual rent for three houses?"
   ]
  },
  {
   "cell_type": "code",
   "execution_count": 38,
   "metadata": {},
   "outputs": [],
   "source": [
    "# Create a system of equations\n",
    "# Let Ri be the rent for apartment Ri where i is the # of bedrooms\n",
    "# 0.1* R1 + 0.2 * R2 + 0.3 * R3 = 276\n",
    "# R3 = 2* R1  meaning that 2R1 + 0R2 - R3 = 0\n",
    "# R1 + R2 + R3 = 1240\n",
    "\n"
   ]
  },
  {
   "cell_type": "code",
   "execution_count": 39,
   "metadata": {},
   "outputs": [
    {
     "data": {
      "text/plain": [
       "(3, 3)"
      ]
     },
     "execution_count": 39,
     "metadata": {},
     "output_type": "execute_result"
    }
   ],
   "source": [
    "# Explain your answer\n",
    "A = np.array([[0.1,0.2,0.3],[2,0,-1],[1,1,1]])\n",
    "A.shape\n"
   ]
  },
  {
   "cell_type": "code",
   "execution_count": 42,
   "metadata": {},
   "outputs": [
    {
     "data": {
      "text/plain": [
       "(3, 1)"
      ]
     },
     "execution_count": 42,
     "metadata": {},
     "output_type": "execute_result"
    }
   ],
   "source": [
    "Y = np.array([[276],[0],[1240]])\n",
    "Y.shape"
   ]
  },
  {
   "cell_type": "code",
   "execution_count": 43,
   "metadata": {
    "scrolled": true
   },
   "outputs": [
    {
     "data": {
      "text/plain": [
       "array([[280.],\n",
       "       [400.],\n",
       "       [560.]])"
      ]
     },
     "execution_count": 43,
     "metadata": {},
     "output_type": "execute_result"
    }
   ],
   "source": [
    "np.linalg.solve(A,Y)"
   ]
  },
  {
   "cell_type": "markdown",
   "metadata": {},
   "source": [
    "## Answer\n",
    "Rent for apart1 = 280\n",
    "\n",
    "Rent for apart2 = 400\n",
    "\n",
    "Rent for apart3 = 560"
   ]
  },
  {
   "cell_type": "markdown",
   "metadata": {},
   "source": [
    "## Summary\n",
    "In this lab, we saw how to use Numpy to solve linear equations by taking inverses and matrix multiplication and also using numpy's `.solve()`. We shall now take these skills forward and see how we can define a simple regression problem using linear algebra and solve it with numpy, only using the skills that we have learnt so far. "
   ]
  }
 ],
 "metadata": {
  "kernelspec": {
   "display_name": "Python 3",
   "language": "python",
   "name": "python3"
  },
  "language_info": {
   "codemirror_mode": {
    "name": "ipython",
    "version": 3
   },
   "file_extension": ".py",
   "mimetype": "text/x-python",
   "name": "python",
   "nbconvert_exporter": "python",
   "pygments_lexer": "ipython3",
   "version": "3.6.6"
  }
 },
 "nbformat": 4,
 "nbformat_minor": 2
}
